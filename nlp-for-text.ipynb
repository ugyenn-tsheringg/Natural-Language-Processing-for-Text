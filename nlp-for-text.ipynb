{
 "cells": [
  {
   "cell_type": "markdown",
   "id": "ded40f07",
   "metadata": {
    "id": "SZBsFy1mkKOx",
    "papermill": {
     "duration": 0.006728,
     "end_time": "2025-04-18T10:22:05.645013",
     "exception": false,
     "start_time": "2025-04-18T10:22:05.638285",
     "status": "completed"
    },
    "tags": []
   },
   "source": [
    "![img](https://miro.medium.com/max/1250/1*CuPIUoh1nvh_r1Ssqmy8SA.jpeg)"
   ]
  },
  {
   "cell_type": "markdown",
   "id": "b4af520a",
   "metadata": {
    "id": "6arPHHEPkKO4",
    "papermill": {
     "duration": 0.005251,
     "end_time": "2025-04-18T10:22:05.656202",
     "exception": false,
     "start_time": "2025-04-18T10:22:05.650951",
     "status": "completed"
    },
    "tags": []
   },
   "source": [
    "After reading this , you’ll know some basic techniques to extract features from some text, so you can use these features as input for machine learning models."
   ]
  },
  {
   "cell_type": "markdown",
   "id": "3b121394",
   "metadata": {
    "id": "OXJ7LymEkKO8",
    "papermill": {
     "duration": 0.005138,
     "end_time": "2025-04-18T10:22:05.666719",
     "exception": false,
     "start_time": "2025-04-18T10:22:05.661581",
     "status": "completed"
    },
    "tags": []
   },
   "source": [
    "# What is NLP (Natural Language Processing)?\n",
    "NLP is a subfield of computer science and artificial intelligence concerned with interactions between computers and human (natural) languages. It is used to apply machine learning algorithms to text and speech.\n",
    "For example, we can use NLP to create systems like speech recognition, document summarization, machine translation, spam detection, named entity recognition, question answering, autocomplete, predictive typing and so on.\n",
    "Nowadays, most of us have smartphones that have speech recognition. These smartphones use NLP to understand what is said. Also, many people use laptops which operating system has a built-in speech recognition."
   ]
  },
  {
   "cell_type": "markdown",
   "id": "660d1c48",
   "metadata": {
    "id": "Xq_X2K3EkKPE",
    "papermill": {
     "duration": 0.005005,
     "end_time": "2025-04-18T10:22:05.676989",
     "exception": false,
     "start_time": "2025-04-18T10:22:05.671984",
     "status": "completed"
    },
    "tags": []
   },
   "source": [
    "# Introduction to the NLTK library for Python\n",
    "NLTK (Natural Language Toolkit) is a leading platform for building Python programs to work with human language data. It provides easy-to-use interfaces to many corpora and lexical resources. Also, it contains a suite of text processing libraries for classification, tokenization, stemming, tagging, parsing, and semantic reasoning. Best of all, NLTK is a free, open source, community-driven project.\n",
    "We’ll use this toolkit to show some basics of the natural language processing field. For the examples below, I’ll assume that we have imported the NLTK toolkit.\n",
    " We can do this like this: import nltk."
   ]
  },
  {
   "cell_type": "markdown",
   "id": "2a3fb3bd",
   "metadata": {
    "id": "-fXebZsLkKPG",
    "papermill": {
     "duration": 0.004976,
     "end_time": "2025-04-18T10:22:05.687086",
     "exception": false,
     "start_time": "2025-04-18T10:22:05.682110",
     "status": "completed"
    },
    "tags": []
   },
   "source": [
    "# The Basics of NLP for Text\n",
    "In this article, we’ll cover the following topics:\n",
    "1. Sentence Tokenization\n",
    "2. Word Tokenization\n",
    "3. Text Lemmatization and Stemming\n",
    "4. Stop Words\n",
    "5. Regex\n",
    "6. Bag-of-Words\n",
    "7. TF-IDF"
   ]
  },
  {
   "cell_type": "markdown",
   "id": "bf4b8598",
   "metadata": {
    "id": "yiEBdaF8kKPH",
    "papermill": {
     "duration": 0.004976,
     "end_time": "2025-04-18T10:22:05.697273",
     "exception": false,
     "start_time": "2025-04-18T10:22:05.692297",
     "status": "completed"
    },
    "tags": []
   },
   "source": [
    "# 1. Sentence Tokenization\n",
    "Sentence tokenization (also called sentence segmentation) is the problem of dividing a string of written language into its component sentences. The idea here looks very simple. In English and some other languages, we can split apart the sentences whenever we see a punctuation mark.\n",
    "However, even in English, this problem is not trivial due to the use of full stop character for abbreviations. When processing plain text, tables of abbreviations that contain periods can help us to prevent incorrect assignment of sentence boundaries. In many cases, we use libraries to do that job for us, so don’t worry too much for the details for now.\n",
    "\n",
    "## Example:\n",
    "Let’s look a piece of text about a famous board game called backgammon.\n",
    "> Backgammon is one of the oldest known board games. Its history can be traced back nearly 5,000 years to archeological discoveries in the Middle East. It is a two player game where each player has fifteen checkers which move between twenty-four points according to the roll of two dice."
   ]
  },
  {
   "cell_type": "code",
   "execution_count": 1,
   "id": "dd4672fb",
   "metadata": {
    "_cell_guid": "79c7e3d0-c299-4dcb-8224-4455121ee9b0",
    "_uuid": "d629ff2d2480ee46fbb7e2d37f6b5fab8052498a",
    "execution": {
     "iopub.execute_input": "2025-04-18T10:22:05.709295Z",
     "iopub.status.busy": "2025-04-18T10:22:05.708953Z",
     "iopub.status.idle": "2025-04-18T10:22:08.207096Z",
     "shell.execute_reply": "2025-04-18T10:22:08.205158Z"
    },
    "id": "u4Ncl1C1kKPJ",
    "outputId": "54e55957-c9d0-433f-809a-0958568424bb",
    "papermill": {
     "duration": 2.507263,
     "end_time": "2025-04-18T10:22:08.209736",
     "exception": false,
     "start_time": "2025-04-18T10:22:05.702473",
     "status": "completed"
    },
    "tags": []
   },
   "outputs": [
    {
     "name": "stdout",
     "output_type": "stream",
     "text": [
      "Backgammon is one of the oldest known board games.\n",
      "Its history can be traced back nearly 5,000 years to archeological discoveries in the Middle East.\n",
      "It is a two player game where each player has fifteen checkers which move between twenty-four points according to the roll of two dice.\n"
     ]
    },
    {
     "name": "stderr",
     "output_type": "stream",
     "text": [
      "[nltk_data] Downloading package punkt_tab to /usr/share/nltk_data...\n",
      "[nltk_data]   Package punkt_tab is already up-to-date!\n"
     ]
    }
   ],
   "source": [
    "import nltk\n",
    "nltk.download('punkt_tab')\n",
    "text = \"Backgammon is one of the oldest known board games. Its history can be traced back nearly 5,000 years to archeological discoveries in the Middle East. It is a two player game where each player has fifteen checkers which move between twenty-four points according to the roll of two dice.\"\n",
    "\n",
    "# Use NLTK's sentence tokenizer to split the text into individual sentences\n",
    "sentences = nltk.sent_tokenize(text)\n",
    "\n",
    "# Iterate over each sentence and print it out\n",
    "for sentence in sentences:\n",
    "    print(sentence)"
   ]
  },
  {
   "cell_type": "markdown",
   "id": "3a7ea302",
   "metadata": {
    "id": "agO5tK5BkKPP",
    "papermill": {
     "duration": 0.009486,
     "end_time": "2025-04-18T10:22:08.230050",
     "exception": false,
     "start_time": "2025-04-18T10:22:08.220564",
     "status": "completed"
    },
    "tags": []
   },
   "source": [
    "# 2. Word Tokenization\n",
    "Word tokenization (also called word segmentation) is the problem of dividing a string of written language into its component words. In English and many other languages using some form of Latin alphabet, space is a good approximation of a word divider.\n",
    "However, we still can have problems if we only split by space to achieve the wanted results. Some English compound nouns are variably written and sometimes they contain a space. In most cases, we use a library to achieve the wanted results, so again don’t worry too much for the details."
   ]
  },
  {
   "cell_type": "code",
   "execution_count": 2,
   "id": "e89c4d67",
   "metadata": {
    "execution": {
     "iopub.execute_input": "2025-04-18T10:22:08.249268Z",
     "iopub.status.busy": "2025-04-18T10:22:08.248558Z",
     "iopub.status.idle": "2025-04-18T10:22:08.255696Z",
     "shell.execute_reply": "2025-04-18T10:22:08.254523Z"
    },
    "id": "5d0jy_FskKPQ",
    "outputId": "4422dd86-5d53-4edb-faf9-ad4ca1561cb9",
    "papermill": {
     "duration": 0.018323,
     "end_time": "2025-04-18T10:22:08.257288",
     "exception": false,
     "start_time": "2025-04-18T10:22:08.238965",
     "status": "completed"
    },
    "tags": []
   },
   "outputs": [
    {
     "name": "stdout",
     "output_type": "stream",
     "text": [
      "['Backgammon', 'is', 'one', 'of', 'the', 'oldest', 'known', 'board', 'games', '.']\n",
      "\n",
      "['Its', 'history', 'can', 'be', 'traced', 'back', 'nearly', '5,000', 'years', 'to', 'archeological', 'discoveries', 'in', 'the', 'Middle', 'East', '.']\n",
      "\n",
      "['It', 'is', 'a', 'two', 'player', 'game', 'where', 'each', 'player', 'has', 'fifteen', 'checkers', 'which', 'move', 'between', 'twenty-four', 'points', 'according', 'to', 'the', 'roll', 'of', 'two', 'dice', '.']\n",
      "\n"
     ]
    }
   ],
   "source": [
    "# Iterate over each word and print it out\n",
    "for sentence in sentences:\n",
    "    words = nltk.word_tokenize(sentence)\n",
    "    print(words)\n",
    "    print()"
   ]
  },
  {
   "cell_type": "markdown",
   "id": "39821d38",
   "metadata": {
    "id": "OlwhZj66kKPS",
    "papermill": {
     "duration": 0.00545,
     "end_time": "2025-04-18T10:22:08.268761",
     "exception": false,
     "start_time": "2025-04-18T10:22:08.263311",
     "status": "completed"
    },
    "tags": []
   },
   "source": [
    "# Text Lemmatization and Stemming\n",
    "For grammatical reasons, documents can contain different forms of a word such as drive, drives, driving. Also, sometimes we have related words with a similar meaning, such as nation, national, nationality.\n",
    "> The goal of both stemming and lemmatization is to reduce inflectional forms and sometimes derivationally related forms of a word to a common base form.\n",
    "\n",
    "Source: https://nlp.stanford.edu/IR-book/html/htmledition/stemming-and-lemmatization-1.html"
   ]
  },
  {
   "cell_type": "markdown",
   "id": "0e47d3e7",
   "metadata": {
    "id": "tymoP9PjkKPU",
    "papermill": {
     "duration": 0.005895,
     "end_time": "2025-04-18T10:22:08.280336",
     "exception": false,
     "start_time": "2025-04-18T10:22:08.274441",
     "status": "completed"
    },
    "tags": []
   },
   "source": [
    "# Examples:\n",
    "* am, are, is => be\n",
    "* dog, dogs, dog’s, dogs’ => dog\n",
    "The result of this mapping applied on a text will be something like that:\n",
    "* the boy’s dogs are different sizes => the boy dog be differ size\n",
    "Stemming and lemmatization are special cases of normalization. However, they are different from each other.\n",
    "\n",
    "> Stemming usually refers to a crude heuristic process that chops off the ends of words in the hope of achieving this goal correctly most of the time, and often includes the removal of derivational affixes.\n",
    "Lemmatization usually refers to doing things properly with the use of a vocabulary and morphological analysis of words, normally aiming to remove inflectional endings only and to return the base or dictionary form of a word, which is known as the lemma.\n",
    "\n",
    "Source: https://nlp.stanford.edu/IR-book/html/htmledition/stemming-and-lemmatization-1.html"
   ]
  },
  {
   "cell_type": "markdown",
   "id": "80f6dd36",
   "metadata": {
    "id": "k3W_9OX7kKPV",
    "papermill": {
     "duration": 0.00519,
     "end_time": "2025-04-18T10:22:08.291065",
     "exception": false,
     "start_time": "2025-04-18T10:22:08.285875",
     "status": "completed"
    },
    "tags": []
   },
   "source": [
    "The difference is that a stemmer operates without knowledge of the context, and therefore cannot understand the difference between words which have different meaning depending on part of speech. But the stemmers also have some advantages, they are easier to implement and usually run faster. Also, the reduced “accuracy” may not matter for some applications.\n",
    "# Examples\n",
    "1. The word “better” has “good” as its lemma. This link is missed by stemming, as it requires a dictionary look-up.\n",
    "2. The word “play” is the base form for the word “playing”, and hence this is matched in both stemming and lemmatization.\n",
    "3. The word “meeting” can be either the base form of a noun or a form of a verb (“to meet”) depending on the context; e.g., “in our last meeting” or “We are meeting again tomorrow”. Unlike stemming, lemmatization attempts to select the correct lemma depending on the context.\n",
    "\n",
    "After we know what’s the difference, let’s see some examples using the NLTK tool."
   ]
  },
  {
   "cell_type": "code",
   "execution_count": 3,
   "id": "04b19a9f",
   "metadata": {
    "execution": {
     "iopub.execute_input": "2025-04-18T10:22:08.303658Z",
     "iopub.status.busy": "2025-04-18T10:22:08.303264Z",
     "iopub.status.idle": "2025-04-18T10:22:11.461624Z",
     "shell.execute_reply": "2025-04-18T10:22:11.460695Z"
    },
    "id": "MUTEtTrikKPW",
    "outputId": "082ce777-fa4c-4bb4-f7e7-64639ec973ae",
    "papermill": {
     "duration": 3.166552,
     "end_time": "2025-04-18T10:22:11.463159",
     "exception": false,
     "start_time": "2025-04-18T10:22:08.296607",
     "status": "completed"
    },
    "tags": []
   },
   "outputs": [
    {
     "name": "stderr",
     "output_type": "stream",
     "text": [
      "[nltk_data] Downloading package wordnet to /usr/share/nltk_data...\n",
      "[nltk_data]   Package wordnet is already up-to-date!\n"
     ]
    },
    {
     "name": "stdout",
     "output_type": "stream",
     "text": [
      "Stemmer: seen\n",
      "Lemmatizer: see\n",
      "\n",
      "Stemmer: drove\n",
      "Lemmatizer: drive\n",
      "\n"
     ]
    }
   ],
   "source": [
    "nltk.download('wordnet')\n",
    "\n",
    "from nltk.stem import PorterStemmer, WordNetLemmatizer\n",
    "from nltk.corpus import wordnet\n",
    "\n",
    "# Import the necessary modules from NLTK\n",
    "def compare_stemmer_and_lemmatizer(stemmer, lemmatizer, word, pos):\n",
    "    \"\"\"\n",
    "    Print the results of stemmind and lemmitization using the passed stemmer, lemmatizer, word and pos (part of speech)\n",
    "    \"\"\"\n",
    "    print(\"Stemmer:\", stemmer.stem(word))\n",
    "    print(\"Lemmatizer:\", lemmatizer.lemmatize(word, pos))\n",
    "    print()\n",
    "\n",
    "# Initialize the WordNet Lemmatizer and Porter Stemmer\n",
    "lemmatizer = WordNetLemmatizer()\n",
    "stemmer = PorterStemmer()\n",
    "compare_stemmer_and_lemmatizer(stemmer, lemmatizer, word = \"seen\", pos = wordnet.VERB)\n",
    "compare_stemmer_and_lemmatizer(stemmer, lemmatizer, word = \"drove\", pos = wordnet.VERB)"
   ]
  },
  {
   "cell_type": "markdown",
   "id": "447a49b1",
   "metadata": {
    "id": "ixEZh4NbkKPY",
    "papermill": {
     "duration": 0.006027,
     "end_time": "2025-04-18T10:22:11.475268",
     "exception": false,
     "start_time": "2025-04-18T10:22:11.469241",
     "status": "completed"
    },
    "tags": []
   },
   "source": [
    "# Stop words\n",
    "![img](https://miro.medium.com/max/513/1*kMf7dZW4jTyaq1hxjA0pgg.png)"
   ]
  },
  {
   "cell_type": "markdown",
   "id": "4ce9a95d",
   "metadata": {
    "id": "zfl4GeH7kKPa",
    "papermill": {
     "duration": 0.005225,
     "end_time": "2025-04-18T10:22:11.486308",
     "exception": false,
     "start_time": "2025-04-18T10:22:11.481083",
     "status": "completed"
    },
    "tags": []
   },
   "source": [
    "Stop words are words which are filtered out before or after processing of text. When applying machine learning to text, these words can add a lot of noise. That’s why we want to remove these irrelevant words.\n",
    "Stop words usually refer to the most common words such as “and”, “the”, “a” in a language, but there is no single universal list of stopwords. The list of the stop words can change depending on your application.\n",
    "The NLTK tool has a predefined list of stopwords that refers to the most common words. If you use it for your first time, you need to download the stop words using this code: nltk.download(“stopwords”). Once we complete the downloading, we can load the stopwords package from the nltk.corpus and use it to load the stop words.\n"
   ]
  },
  {
   "cell_type": "code",
   "execution_count": 4,
   "id": "e9d8ae80",
   "metadata": {
    "execution": {
     "iopub.execute_input": "2025-04-18T10:22:11.498988Z",
     "iopub.status.busy": "2025-04-18T10:22:11.498079Z",
     "iopub.status.idle": "2025-04-18T10:22:11.508580Z",
     "shell.execute_reply": "2025-04-18T10:22:11.507815Z"
    },
    "id": "cQwNhQvUkKPb",
    "outputId": "df6955ea-3fa0-426e-edcf-c57026c85177",
    "papermill": {
     "duration": 0.01864,
     "end_time": "2025-04-18T10:22:11.510433",
     "exception": false,
     "start_time": "2025-04-18T10:22:11.491793",
     "status": "completed"
    },
    "tags": []
   },
   "outputs": [
    {
     "name": "stdout",
     "output_type": "stream",
     "text": [
      "['a', 'about', 'above', 'after', 'again', 'against', 'ain', 'all', 'am', 'an', 'and', 'any', 'are', 'aren', \"aren't\", 'as', 'at', 'be', 'because', 'been', 'before', 'being', 'below', 'between', 'both', 'but', 'by', 'can', 'couldn', \"couldn't\", 'd', 'did', 'didn', \"didn't\", 'do', 'does', 'doesn', \"doesn't\", 'doing', 'don', \"don't\", 'down', 'during', 'each', 'few', 'for', 'from', 'further', 'had', 'hadn', \"hadn't\", 'has', 'hasn', \"hasn't\", 'have', 'haven', \"haven't\", 'having', 'he', \"he'd\", \"he'll\", 'her', 'here', 'hers', 'herself', \"he's\", 'him', 'himself', 'his', 'how', 'i', \"i'd\", 'if', \"i'll\", \"i'm\", 'in', 'into', 'is', 'isn', \"isn't\", 'it', \"it'd\", \"it'll\", \"it's\", 'its', 'itself', \"i've\", 'just', 'll', 'm', 'ma', 'me', 'mightn', \"mightn't\", 'more', 'most', 'mustn', \"mustn't\", 'my', 'myself', 'needn', \"needn't\", 'no', 'nor', 'not', 'now', 'o', 'of', 'off', 'on', 'once', 'only', 'or', 'other', 'our', 'ours', 'ourselves', 'out', 'over', 'own', 're', 's', 'same', 'shan', \"shan't\", 'she', \"she'd\", \"she'll\", \"she's\", 'should', 'shouldn', \"shouldn't\", \"should've\", 'so', 'some', 'such', 't', 'than', 'that', \"that'll\", 'the', 'their', 'theirs', 'them', 'themselves', 'then', 'there', 'these', 'they', \"they'd\", \"they'll\", \"they're\", \"they've\", 'this', 'those', 'through', 'to', 'too', 'under', 'until', 'up', 've', 'very', 'was', 'wasn', \"wasn't\", 'we', \"we'd\", \"we'll\", \"we're\", 'were', 'weren', \"weren't\", \"we've\", 'what', 'when', 'where', 'which', 'while', 'who', 'whom', 'why', 'will', 'with', 'won', \"won't\", 'wouldn', \"wouldn't\", 'y', 'you', \"you'd\", \"you'll\", 'your', \"you're\", 'yours', 'yourself', 'yourselves', \"you've\"]\n"
     ]
    },
    {
     "name": "stderr",
     "output_type": "stream",
     "text": [
      "[nltk_data] Downloading package stopwords to /usr/share/nltk_data...\n",
      "[nltk_data]   Package stopwords is already up-to-date!\n"
     ]
    }
   ],
   "source": [
    "nltk.download('stopwords')\n",
    "\n",
    "from nltk.corpus import stopwords\n",
    "print(stopwords.words(\"english\"))"
   ]
  },
  {
   "cell_type": "markdown",
   "id": "770107db",
   "metadata": {
    "id": "mGl5ZSB2kKPc",
    "papermill": {
     "duration": 0.005304,
     "end_time": "2025-04-18T10:22:11.521431",
     "exception": false,
     "start_time": "2025-04-18T10:22:11.516127",
     "status": "completed"
    },
    "tags": []
   },
   "source": [
    "Let’s see how we can remove the stop words from a sentence.\n"
   ]
  },
  {
   "cell_type": "code",
   "execution_count": 5,
   "id": "c8b74d50",
   "metadata": {
    "execution": {
     "iopub.execute_input": "2025-04-18T10:22:11.533529Z",
     "iopub.status.busy": "2025-04-18T10:22:11.533252Z",
     "iopub.status.idle": "2025-04-18T10:22:11.539435Z",
     "shell.execute_reply": "2025-04-18T10:22:11.538678Z"
    },
    "id": "OJfUHAElkKPd",
    "outputId": "5b6da90b-0651-4b7b-957e-599d27746f0c",
    "papermill": {
     "duration": 0.013814,
     "end_time": "2025-04-18T10:22:11.540678",
     "exception": false,
     "start_time": "2025-04-18T10:22:11.526864",
     "status": "completed"
    },
    "tags": []
   },
   "outputs": [
    {
     "name": "stdout",
     "output_type": "stream",
     "text": [
      "['Backgammon', 'one', 'oldest', 'known', 'board', 'games', '.']\n"
     ]
    }
   ],
   "source": [
    "stop_words = set(stopwords.words(\"english\"))\n",
    "sentence = \"Backgammon is one of the oldest known board games.\"\n",
    "\n",
    "words = nltk.word_tokenize(sentence)\n",
    "without_stop_words = [word for word in words if not word in stop_words]\n",
    "print(without_stop_words)"
   ]
  },
  {
   "cell_type": "markdown",
   "id": "252a1dd7",
   "metadata": {
    "id": "jgmckzOBkKPf",
    "papermill": {
     "duration": 0.005373,
     "end_time": "2025-04-18T10:22:11.551936",
     "exception": false,
     "start_time": "2025-04-18T10:22:11.546563",
     "status": "completed"
    },
    "tags": []
   },
   "source": [
    "If you’re not familiar with the [list comprehensions in Python](https://towardsdatascience.com/python-basics-list-comprehensions-631278f22c40). Here is another way to achieve the same result.\n"
   ]
  },
  {
   "cell_type": "code",
   "execution_count": 6,
   "id": "8f5e2cf5",
   "metadata": {
    "execution": {
     "iopub.execute_input": "2025-04-18T10:22:11.564961Z",
     "iopub.status.busy": "2025-04-18T10:22:11.564194Z",
     "iopub.status.idle": "2025-04-18T10:22:11.570613Z",
     "shell.execute_reply": "2025-04-18T10:22:11.569800Z"
    },
    "id": "ohMudoM3kKPg",
    "outputId": "73558521-a912-4058-e713-58506547e4f1",
    "papermill": {
     "duration": 0.014519,
     "end_time": "2025-04-18T10:22:11.572028",
     "exception": false,
     "start_time": "2025-04-18T10:22:11.557509",
     "status": "completed"
    },
    "tags": []
   },
   "outputs": [
    {
     "name": "stdout",
     "output_type": "stream",
     "text": [
      "['Backgammon', 'one', 'oldest', 'known', 'board', 'games', '.']\n"
     ]
    }
   ],
   "source": [
    "stop_words = set(stopwords.words(\"english\"))\n",
    "sentence = \"Backgammon is one of the oldest known board games.\"\n",
    "\n",
    "words = nltk.word_tokenize(sentence)\n",
    "without_stop_words = []\n",
    "for word in words:\n",
    "    if word not in stop_words:\n",
    "        without_stop_words.append(word)\n",
    "\n",
    "print(without_stop_words)"
   ]
  },
  {
   "cell_type": "markdown",
   "id": "1d4d149c",
   "metadata": {
    "id": "MQouZG9ikKPi",
    "papermill": {
     "duration": 0.005503,
     "end_time": "2025-04-18T10:22:11.583816",
     "exception": false,
     "start_time": "2025-04-18T10:22:11.578313",
     "status": "completed"
    },
    "tags": []
   },
   "source": [
    "However, keep in mind that list comprehensions are faster because they are optimized for the Python interpreter to spot a predictable pattern during looping.\n",
    "You might wonder why we convert our list into a set. Set is an abstract data type that can store unique values, without any particular order. The search operation in a set is much faster than the search operation in a list. For a small number of words, there is no big difference, but if you have a large number of words it’s highly recommended to use the set type.\n",
    "If you want to learn more about the time consuming between the different operations for the different data structures you can look at this awesome cheat sheet.\n",
    "\n",
    "# Regex\n",
    "![img](https://miro.medium.com/max/658/1*l_EB11yQfbZsKLFr8ZckuQ.jpeg)\n",
    "A regular expression, regex, or regexp is a sequence of characters that define a search pattern. Let’s see some basics.\n",
    "* . - match any character except newline\n",
    "* \\w - match word\n",
    "* \\d - match digit\n",
    "* \\s - match whitespace\n",
    "* \\W - match not word\n",
    "* \\D - match not digit\n",
    "* \\S - match not whitespace\n",
    "* [abc] - match any of a, b, or c\n",
    "* [^abc] - not match a, b, or c\n",
    "* [a-g] - match a character between a & g\n",
    "\n",
    "> Regular expressions use the backslash character ('\\') to indicate special forms or to allow special characters to be used without invoking their special meaning. This collides with Python’s usage of the same character for the same purpose in string literals; for example, to match a literal backslash, one might have to write '\\\\\\\\' as the pattern string, because the regular expression must be \\\\, and each backslash must be expressed as \\\\ inside a regular Python string literal.\n",
    "The solution is to use Python’s raw string notation for regular expression patterns; backslashes are not handled in any special way in a string literal prefixed with 'r'. So r\"\\n\" is a two-character string containing '\\' and 'n', while \"\\n\" is a one-character string containing a newline. Usually, patterns will be expressed in Python code using this raw string notation.\n",
    "\n",
    "Source: https://docs.python.org/3/library/re.html?highlight=regex\n",
    "\n",
    "We can use regex to apply additional filtering to our text. For example, we can remove all the non-words characters. In many cases, we don’t need the punctuation marks and it’s easy to remove them with regex.\n",
    "In Python, the re module provides regular expression matching operations similar to those in Perl. We can use the re.sub function to replace the matches for a pattern with a replacement string. Let’s see an example when we replace all non-words with the space character."
   ]
  },
  {
   "cell_type": "code",
   "execution_count": 7,
   "id": "c1ffdc01",
   "metadata": {
    "execution": {
     "iopub.execute_input": "2025-04-18T10:22:11.596277Z",
     "iopub.status.busy": "2025-04-18T10:22:11.595990Z",
     "iopub.status.idle": "2025-04-18T10:22:11.600851Z",
     "shell.execute_reply": "2025-04-18T10:22:11.600047Z"
    },
    "id": "RVrDDTjXkKPj",
    "outputId": "a850094c-11fd-4e71-b5d2-8e77fb2ef9d5",
    "papermill": {
     "duration": 0.012574,
     "end_time": "2025-04-18T10:22:11.602111",
     "exception": false,
     "start_time": "2025-04-18T10:22:11.589537",
     "status": "completed"
    },
    "tags": []
   },
   "outputs": [
    {
     "name": "stdout",
     "output_type": "stream",
     "text": [
      "The development of snowboarding was inspired by skateboarding  sledding  surfing and skiing \n"
     ]
    }
   ],
   "source": [
    "\n",
    "import re\n",
    "sentence = \"The development of snowboarding was inspired by skateboarding, sledding, surfing and skiing.\"\n",
    "pattern = r\"[^\\w]\"\n",
    "print(re.sub(pattern, \" \", sentence))\n"
   ]
  },
  {
   "cell_type": "markdown",
   "id": "bc06c1cf",
   "metadata": {
    "id": "NJU8yon4kKPk",
    "papermill": {
     "duration": 0.005457,
     "end_time": "2025-04-18T10:22:11.613366",
     "exception": false,
     "start_time": "2025-04-18T10:22:11.607909",
     "status": "completed"
    },
    "tags": []
   },
   "source": [
    "A regular expression is a powerful tool and we can create much more complex patterns. If you want to learn more about regex I can recommend you to try these 2 web apps: [regexr](https://regexr.com/), [regex101](https://regex101.com/)."
   ]
  },
  {
   "cell_type": "markdown",
   "id": "2e4fac90",
   "metadata": {
    "id": "Az8fD_AUkKPl",
    "papermill": {
     "duration": 0.005409,
     "end_time": "2025-04-18T10:22:11.624274",
     "exception": false,
     "start_time": "2025-04-18T10:22:11.618865",
     "status": "completed"
    },
    "tags": []
   },
   "source": [
    "# Bag-of-words\n",
    "![img](https://miro.medium.com/max/320/1*RPezKXGUUwla-JP52OnZxA.png)\n",
    "Machine learning algorithms cannot work with raw text directly, we need to convert the text into vectors of numbers. This is called feature extraction.\n",
    "The bag-of-words model is a popular and simple feature extraction technique used when we work with text. It describes the occurrence of each word within a document.\n",
    "To use this model, we need to:\n",
    "1. Design a vocabulary of known words (also called tokens)\n",
    "2. Choose a measure of the presence of known words\n",
    "Any information about the order or structure of words is discarded. That’s why it’s called a bag of words. This model is trying to understand whether a known word occurs in a document, but don’t know where is that word in the document.\n",
    "\n",
    "The intuition is that similar documents have similar contents. Also, from a content, we can learn something about the meaning of the document."
   ]
  },
  {
   "cell_type": "markdown",
   "id": "0606701f",
   "metadata": {
    "id": "R1Kn3tNLkKPm",
    "papermill": {
     "duration": 0.005603,
     "end_time": "2025-04-18T10:22:11.635593",
     "exception": false,
     "start_time": "2025-04-18T10:22:11.629990",
     "status": "completed"
    },
    "tags": []
   },
   "source": [
    "# Example\n",
    "Let’s see what are the steps to create a bag-of-words model. In this example, we’ll use only four sentences to see how this model works. In the real-world problems, you’ll work with much bigger amounts of data.\n",
    "## 1. Load the data\n",
    "![img](https://miro.medium.com/max/320/1*JTi6Bnodv2sui50F96v7-Q.png)\n",
    "Let’s say that this is our data and we want to load it as an array.\n",
    "\n",
    "\n",
    "I like this movie, it's funny.\n",
    "\n",
    "I hate this movie.\n",
    "\n",
    "This was awesome! I like it.\n",
    "\n",
    "Nice one. I love it.\n"
   ]
  },
  {
   "cell_type": "code",
   "execution_count": 8,
   "id": "942c9c77",
   "metadata": {
    "execution": {
     "iopub.execute_input": "2025-04-18T10:22:11.648707Z",
     "iopub.status.busy": "2025-04-18T10:22:11.648306Z",
     "iopub.status.idle": "2025-04-18T10:22:11.658199Z",
     "shell.execute_reply": "2025-04-18T10:22:11.657339Z"
    },
    "id": "M09wcCEfkKPn",
    "outputId": "09381ef0-4523-4e1d-e163-9c3719719cbd",
    "papermill": {
     "duration": 0.017899,
     "end_time": "2025-04-18T10:22:11.659608",
     "exception": false,
     "start_time": "2025-04-18T10:22:11.641709",
     "status": "completed"
    },
    "tags": []
   },
   "outputs": [
    {
     "name": "stdout",
     "output_type": "stream",
     "text": [
      "[\"I like this movie, it's funny.\", '', 'I hate this movie.', '', 'This was awesome! I like it.', '', 'Nice one. I love it.']\n"
     ]
    }
   ],
   "source": [
    "with open(\"/kaggle/input/dataset/simple movie reviews.txt\", \"r\") as file:\n",
    "    documents = file.read().splitlines()\n",
    "\n",
    "print(documents)"
   ]
  },
  {
   "cell_type": "markdown",
   "id": "48f88cbd",
   "metadata": {
    "id": "bHq0mKM0kKPo",
    "papermill": {
     "duration": 0.00553,
     "end_time": "2025-04-18T10:22:11.671199",
     "exception": false,
     "start_time": "2025-04-18T10:22:11.665669",
     "status": "completed"
    },
    "tags": []
   },
   "source": [
    "# 2. Design the Vocabulary\n",
    "![img](https://miro.medium.com/max/320/1*AFUcM9S6FwX7RNTW4zqtLQ.png)\n",
    "Let’s get all the unique words from the four loaded sentences ignoring the case, punctuation, and one-character tokens. These words will be our vocabulary (known words).\n",
    "We can use the CountVectorizer class from the sklearn library to design our vocabulary. We’ll see how we can use it after reading the next step, too.\n",
    "# 3. Create the Document Vectors\n",
    "![img](https://miro.medium.com/max/160/1*90Wv4B73KktRNU9NcYdpjg.png)\n",
    "Next, we need to score the words in each document. The task here is to convert each raw text into a vector of numbers. After that, we can use these vectors as input for a machine learning model. The simplest scoring method is to mark the presence of words with 1 for present and 0 for absence.\n",
    "Now, let’s see how we can create a bag-of-words model using the mentioned above CountVectorizer class.\n"
   ]
  },
  {
   "cell_type": "code",
   "execution_count": 9,
   "id": "47d32a8e",
   "metadata": {
    "execution": {
     "iopub.execute_input": "2025-04-18T10:22:11.684264Z",
     "iopub.status.busy": "2025-04-18T10:22:11.683604Z",
     "iopub.status.idle": "2025-04-18T10:22:13.672275Z",
     "shell.execute_reply": "2025-04-18T10:22:13.671425Z"
    },
    "id": "mrE9I3LSkKPp",
    "outputId": "6f8408d5-42a7-4445-eb46-6ace277a8c51",
    "papermill": {
     "duration": 1.996801,
     "end_time": "2025-04-18T10:22:13.673872",
     "exception": false,
     "start_time": "2025-04-18T10:22:11.677071",
     "status": "completed"
    },
    "tags": []
   },
   "outputs": [
    {
     "data": {
      "text/html": [
       "<div>\n",
       "<style scoped>\n",
       "    .dataframe tbody tr th:only-of-type {\n",
       "        vertical-align: middle;\n",
       "    }\n",
       "\n",
       "    .dataframe tbody tr th {\n",
       "        vertical-align: top;\n",
       "    }\n",
       "\n",
       "    .dataframe thead th {\n",
       "        text-align: right;\n",
       "    }\n",
       "</style>\n",
       "<table border=\"1\" class=\"dataframe\">\n",
       "  <thead>\n",
       "    <tr style=\"text-align: right;\">\n",
       "      <th></th>\n",
       "      <th>fun</th>\n",
       "      <th>is</th>\n",
       "      <th>love</th>\n",
       "      <th>nlp</th>\n",
       "    </tr>\n",
       "  </thead>\n",
       "  <tbody>\n",
       "    <tr>\n",
       "      <th>0</th>\n",
       "      <td>0</td>\n",
       "      <td>0</td>\n",
       "      <td>1</td>\n",
       "      <td>1</td>\n",
       "    </tr>\n",
       "    <tr>\n",
       "      <th>1</th>\n",
       "      <td>1</td>\n",
       "      <td>1</td>\n",
       "      <td>0</td>\n",
       "      <td>1</td>\n",
       "    </tr>\n",
       "  </tbody>\n",
       "</table>\n",
       "</div>"
      ],
      "text/plain": [
       "   fun  is  love  nlp\n",
       "0    0   0     1    1\n",
       "1    1   1     0    1"
      ]
     },
     "execution_count": 9,
     "metadata": {},
     "output_type": "execute_result"
    }
   ],
   "source": [
    "# Import the libraries we need\n",
    "from sklearn.feature_extraction.text import CountVectorizer\n",
    "import pandas as pd\n",
    "\n",
    "# Example documents\n",
    "documents = [\"I love NLP\", \"NLP is fun!\"]\n",
    "\n",
    "# Step 2. Design the Vocabulary\n",
    "count_vectorizer = CountVectorizer()\n",
    "\n",
    "# Step 3. Create the Bag-of-Words Model\n",
    "bag_of_words = count_vectorizer.fit_transform(documents)\n",
    "\n",
    "# Show the Bag-of-Words Model as a pandas DataFrame\n",
    "feature_names = count_vectorizer.get_feature_names_out()\n",
    "pd.DataFrame(bag_of_words.toarray(), columns=feature_names)\n"
   ]
  },
  {
   "cell_type": "markdown",
   "id": "b78453ac",
   "metadata": {
    "id": "wjTiRdlqkKPq",
    "papermill": {
     "duration": 0.006143,
     "end_time": "2025-04-18T10:22:13.686492",
     "exception": false,
     "start_time": "2025-04-18T10:22:13.680349",
     "status": "completed"
    },
    "tags": []
   },
   "source": [
    "# output\n",
    "![img](https://miro.medium.com/max/566/1*f5e9vn4EZB8zNSLWO0dn-A.png)\n",
    "Here are our sentences. Now we can see how the bag-of-words model works.\n",
    "![img](https://miro.medium.com/max/453/1*LtMJ1qSiIuEzZDqB-RQbjw.png)\n",
    "# Additional Notes on the Bag of Words Model\n",
    "![img](https://miro.medium.com/max/320/1*JvmcnIYVAzxHYdrxtmMa3Q.png)\n",
    "The complexity of the bag-of-words model comes in deciding how to design the vocabulary of known words (tokens) and how to score the presence of known words.\n",
    "Designing the Vocabulary\n",
    "When the vocabulary size increases, the vector representation of the documents also increases. In the example above, the length of the document vector is equal to the number of known words.\n",
    "\n",
    "In some cases, we can have a huge amount of data and in this cases, the length of the vector that represents a document might be thousands or millions of elements. Furthermore, each document may contain only a few of the known words in the vocabulary.\n",
    "Therefore the vector representations will have a lot of zeros. These vectors which have a lot of zeros are called sparse vectors. They require more memory and computational resources.\n",
    "\n",
    "We can decrease the number of the known words when using a bag-of-words model to decrease the required memory and computational resources. We can use the text cleaning techniques we’ve already seen in this article before we create our bag-of-words model:\n",
    "\n",
    "* Ignoring the case of the words\n",
    "* Ignoring punctuation\n",
    "* Removing the stop words from our documents\n",
    "* Reducing the words to their base form (Text Lemmatization and Stemming)\n",
    "* Fixing misspelled words\n",
    "\n",
    "Another more complex way to create a vocabulary is to use grouped words. This changes the scope of the vocabulary and allows the bag-of-words model to get more details about the document. This approach is called n-grams.\n",
    "\n",
    "An n-gram is a sequence of a number of items (words, letter, numbers, digits, etc.). In the context of text corpora, n-grams typically refer to a sequence of words. A unigram is one word, a bigram is a sequence of two words, a trigram is a sequence of three words etc. The “n” in the “n-gram” refers to the number of the grouped words. Only the n-grams that appear in the corpus are modeled, not all possible n-grams."
   ]
  },
  {
   "cell_type": "markdown",
   "id": "69ed9d41",
   "metadata": {
    "id": "tzprevlykKPs",
    "papermill": {
     "duration": 0.005701,
     "end_time": "2025-04-18T10:22:13.698190",
     "exception": false,
     "start_time": "2025-04-18T10:22:13.692489",
     "status": "completed"
    },
    "tags": []
   },
   "source": [
    "# Example\n",
    "Let’s look at the all bigrams for the following sentence:\n",
    "The office building is open today\n",
    "All the bigrams are:\n",
    "* the office\n",
    "* office building\n",
    "* building is\n",
    "* is open\n",
    "* open today\n",
    "The bag-of-bigrams is more powerful than the bag-of-words approach.\n",
    "\n",
    "# Scoring Words\n",
    "Once, we have created our vocabulary of known words, we need to score the occurrence of the words in our data. We saw one very simple approach - the binary approach (1 for presence, 0 for absence).\n",
    "Some additional scoring methods are:\n",
    "* Counts. Count the number of times each word appears in a document.\n",
    "* Frequencies. Calculate the frequency that each word appears in document out of all the words in the document.\n",
    "\n",
    "# TF-IDF\n",
    "One problem with scoring word frequency is that the most frequent words in the document start to have the highest scores. These frequent words may not contain as much “informational gain” to the model compared with some rarer and domain-specific words. One approach to fix that problem is to penalize words that are frequent across all the documents. This approach is called TF-IDF.\n",
    "\n",
    "TF-IDF, short for term frequency-inverse document frequency is a statistical measure used to evaluate the importance of a word to a document in a collection or corpus.\n",
    "The TF-IDF scoring value increases proportionally to the number of times a word appears in the document, but it is offset by the number of documents in the corpus that contain the word.\n",
    "Let’s see the formula used to calculate a TF-IDF score for a given term x within a document y.\n",
    "\n",
    "![img](https://miro.medium.com/max/875/1*V9ac4hLVyms79jl65Ym_Bw.png)\n",
    "\n",
    "Now, let’s split this formula a little bit and see how the different parts of the formula work."
   ]
  },
  {
   "cell_type": "markdown",
   "id": "d5a2de7a",
   "metadata": {
    "id": "1_GZUPfwkKPt",
    "papermill": {
     "duration": 0.005764,
     "end_time": "2025-04-18T10:22:13.710003",
     "exception": false,
     "start_time": "2025-04-18T10:22:13.704239",
     "status": "completed"
    },
    "tags": []
   },
   "source": [
    "## Term Frequency (TF):\n",
    "a scoring of the frequency of the word in the current document.\n",
    "![img](https://miro.medium.com/max/579/1*V3qfsHl0t-bV5kA0mlnsjQ.png)\n",
    "## Inverse Term Frequency (ITF):\n",
    "a scoring of how rare the word is across documents.\n",
    "![img](https://miro.medium.com/max/556/1*wvPGL02y36QL7-tdG1BT1A.png)\n",
    "## Inverse Term Frequency (ITF):\n",
    "a scoring of how rare the word is across documents.\n",
    "![img](https://miro.medium.com/max/556/1*wvPGL02y36QL7-tdG1BT1A.png)\n",
    "\n",
    "Finally, we can use the previous formulas to calculate the TF-IDF score for a given term like this:\n",
    "![img](https://miro.medium.com/max/368/1*D2UA6xj9KqcH6amzVj5Y5g.png)\n"
   ]
  },
  {
   "cell_type": "markdown",
   "id": "f5e7a1ca",
   "metadata": {
    "id": "qbEdzHHDkKPu",
    "papermill": {
     "duration": 0.005713,
     "end_time": "2025-04-18T10:22:13.721708",
     "exception": false,
     "start_time": "2025-04-18T10:22:13.715995",
     "status": "completed"
    },
    "tags": []
   },
   "source": [
    "# Example\n",
    "In Python, we can use the TfidfVectorizer class from the sklearn library to calculate the TF-IDF scores for given documents. Let’s use the same sentences that we have used with the bag-of-words example.\n",
    "\n"
   ]
  },
  {
   "cell_type": "code",
   "execution_count": 10,
   "id": "1bb78761",
   "metadata": {
    "execution": {
     "iopub.execute_input": "2025-04-18T10:22:13.734866Z",
     "iopub.status.busy": "2025-04-18T10:22:13.734328Z",
     "iopub.status.idle": "2025-04-18T10:22:13.756345Z",
     "shell.execute_reply": "2025-04-18T10:22:13.755589Z"
    },
    "id": "YpCfTk91kKPu",
    "outputId": "ae721147-5b26-4f46-93ce-94bee8116235",
    "papermill": {
     "duration": 0.030341,
     "end_time": "2025-04-18T10:22:13.757922",
     "exception": false,
     "start_time": "2025-04-18T10:22:13.727581",
     "status": "completed"
    },
    "tags": []
   },
   "outputs": [
    {
     "data": {
      "text/html": [
       "<div>\n",
       "<style scoped>\n",
       "    .dataframe tbody tr th:only-of-type {\n",
       "        vertical-align: middle;\n",
       "    }\n",
       "\n",
       "    .dataframe tbody tr th {\n",
       "        vertical-align: top;\n",
       "    }\n",
       "\n",
       "    .dataframe thead th {\n",
       "        text-align: right;\n",
       "    }\n",
       "</style>\n",
       "<table border=\"1\" class=\"dataframe\">\n",
       "  <thead>\n",
       "    <tr style=\"text-align: right;\">\n",
       "      <th></th>\n",
       "      <th>fun</th>\n",
       "      <th>is</th>\n",
       "      <th>love</th>\n",
       "      <th>nlp</th>\n",
       "    </tr>\n",
       "  </thead>\n",
       "  <tbody>\n",
       "    <tr>\n",
       "      <th>0</th>\n",
       "      <td>0.000000</td>\n",
       "      <td>0.000000</td>\n",
       "      <td>0.814802</td>\n",
       "      <td>0.579739</td>\n",
       "    </tr>\n",
       "    <tr>\n",
       "      <th>1</th>\n",
       "      <td>0.631667</td>\n",
       "      <td>0.631667</td>\n",
       "      <td>0.000000</td>\n",
       "      <td>0.449436</td>\n",
       "    </tr>\n",
       "  </tbody>\n",
       "</table>\n",
       "</div>"
      ],
      "text/plain": [
       "        fun        is      love       nlp\n",
       "0  0.000000  0.000000  0.814802  0.579739\n",
       "1  0.631667  0.631667  0.000000  0.449436"
      ]
     },
     "execution_count": 10,
     "metadata": {},
     "output_type": "execute_result"
    }
   ],
   "source": [
    "from sklearn.feature_extraction.text import TfidfVectorizer\n",
    "import pandas as pd\n",
    "\n",
    "documents = [\"I love NLP\", \"NLP is fun!\"]\n",
    "\n",
    "tfidf_vectorizer = TfidfVectorizer()\n",
    "values = tfidf_vectorizer.fit_transform(documents)\n",
    "\n",
    "# Show the Model as a pandas DataFrame\n",
    "feature_names = tfidf_vectorizer.get_feature_names_out()\n",
    "pd.DataFrame(values.toarray(), columns=feature_names)\n"
   ]
  },
  {
   "cell_type": "markdown",
   "id": "ffbd1184",
   "metadata": {
    "id": "px6F60mtkKPv",
    "papermill": {
     "duration": 0.005901,
     "end_time": "2025-04-18T10:22:13.770122",
     "exception": false,
     "start_time": "2025-04-18T10:22:13.764221",
     "status": "completed"
    },
    "tags": []
   },
   "source": [
    "# Output\n",
    "![img](https://miro.medium.com/max/875/1*dPXb0hL5GluQCf9jMY1YDQ.png)\n",
    "\n",
    "Again, I’ll add the sentences here for an easy comparison and better understanding of how this approach is working.\n",
    "\n",
    "![img](https://miro.medium.com/max/453/1*LtMJ1qSiIuEzZDqB-RQbjw.png)"
   ]
  },
  {
   "cell_type": "markdown",
   "id": "5970eb44",
   "metadata": {
    "id": "nyyGCj0TkKPw",
    "papermill": {
     "duration": 0.005848,
     "end_time": "2025-04-18T10:22:13.781988",
     "exception": false,
     "start_time": "2025-04-18T10:22:13.776140",
     "status": "completed"
    },
    "tags": []
   },
   "source": [
    "# Summary\n",
    "* NLP is used to apply machine learning algorithms to text and speech.\n",
    "* NLTK (Natural Language Toolkit) is a leading platform for building Python programs to work with human language data\n",
    "* Sentence tokenization is the problem of dividing a string of written language into its component sentences\n",
    "* Word tokenization is the problem of dividing a string of written language into its component words\n",
    "* The goal of both stemming and lemmatization is to reduce inflectional forms and sometimes derivationally related forms of a word to a common base form.\n",
    "* Stop words are words which are filtered out before or after processing of text. They usually refer to the most common words in a language.\n",
    "* A regular expression is a sequence of characters that define a search pattern.\n",
    "* The bag-of-words model is a popular and simple feature extraction technique used when we work with text. It describes the occurrence of each word within a document.\n",
    "* TF-IDF is a statistical measure used to evaluate the importance of a word to a document in a collection or corpus.\n",
    "\n"
   ]
  }
 ],
 "metadata": {
  "colab": {
   "provenance": []
  },
  "kaggle": {
   "accelerator": "none",
   "dataSources": [
    {
     "datasetId": 7180314,
     "sourceId": 11459370,
     "sourceType": "datasetVersion"
    }
   ],
   "dockerImageVersionId": 31012,
   "isGpuEnabled": false,
   "isInternetEnabled": true,
   "language": "python",
   "sourceType": "notebook"
  },
  "kernelspec": {
   "display_name": "Python 3",
   "language": "python",
   "name": "python3"
  },
  "language_info": {
   "codemirror_mode": {
    "name": "ipython",
    "version": 3
   },
   "file_extension": ".py",
   "mimetype": "text/x-python",
   "name": "python",
   "nbconvert_exporter": "python",
   "pygments_lexer": "ipython3",
   "version": "3.11.11"
  },
  "papermill": {
   "default_parameters": {},
   "duration": 14.108807,
   "end_time": "2025-04-18T10:22:14.808717",
   "environment_variables": {},
   "exception": null,
   "input_path": "__notebook__.ipynb",
   "output_path": "__notebook__.ipynb",
   "parameters": {},
   "start_time": "2025-04-18T10:22:00.699910",
   "version": "2.6.0"
  }
 },
 "nbformat": 4,
 "nbformat_minor": 5
}
